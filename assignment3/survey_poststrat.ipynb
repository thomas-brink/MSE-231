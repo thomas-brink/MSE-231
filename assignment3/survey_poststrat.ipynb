{
 "cells": [
  {
   "cell_type": "code",
   "execution_count": 73,
   "id": "b4c608b0",
   "metadata": {},
   "outputs": [],
   "source": [
    "import pandas as pd\n",
    "import numpy as np\n",
    "from sklearn.preprocessing import StandardScaler, OrdinalEncoder, LabelEncoder\n",
    "from sklearn.impute import SimpleImputer\n",
    "from sklearn.pipeline import Pipeline\n",
    "from sklearn.linear_model import LogisticRegression"
   ]
  },
  {
   "cell_type": "code",
   "execution_count": 74,
   "id": "92f035b9",
   "metadata": {},
   "outputs": [],
   "source": [
    "og_survey_df = pd.read_csv('comma-survey.csv', index_col='RespondentID')\n",
    "new_survey_df = pd.read_csv('new_comma_survey.csv', index_col='RespondentID')\n",
    "survey_df = pd.concat([og_survey_df, new_survey_df])"
   ]
  },
  {
   "cell_type": "code",
   "execution_count": 75,
   "id": "d3a47d44",
   "metadata": {},
   "outputs": [],
   "source": [
    "question_cols = list(survey_df.columns)[:7]\n",
    "demographic_cols = list(survey_df.columns)[7:11]"
   ]
  },
  {
   "cell_type": "code",
   "execution_count": 76,
   "id": "fac3f5bb",
   "metadata": {},
   "outputs": [
    {
     "data": {
      "text/plain": [
       "['In your opinion, which sentence is more gramatically correct?',\n",
       " 'Prior to reading about it above, had you heard of the serial (or Oxford) comma?',\n",
       " 'How much, if at all, do you care about the use (or lack thereof) of the serial (or Oxford) comma in grammar?',\n",
       " 'How would you write the following sentence?',\n",
       " 'When faced with using the word \"data\", have you ever spent time considering if the word was a singular or plural noun?',\n",
       " 'How much, if at all, do you care about the debate over the use of the word \"data\" as a singluar or plural noun?',\n",
       " 'In your opinion, how important or unimportant is proper use of grammar?']"
      ]
     },
     "execution_count": 76,
     "metadata": {},
     "output_type": "execute_result"
    }
   ],
   "source": [
    "question_cols"
   ]
  },
  {
   "cell_type": "code",
   "execution_count": 94,
   "id": "873c17c0",
   "metadata": {},
   "outputs": [],
   "source": [
    "# Encode demographic responses\n",
    "\n",
    "demographics = survey_df[demographic_cols].to_numpy()\n",
    "# Define the ordinal features pipeline\n",
    "enc = Pipeline([\n",
    "    ('imputer', SimpleImputer(strategy='constant', add_indicator=True)),\n",
    "    ('encoder', OrdinalEncoder()),\n",
    "    ('scaler', StandardScaler())\n",
    "])\n",
    "enc.fit(demographics)\n",
    "X_demographics = enc.transform(demographics)"
   ]
  },
  {
   "cell_type": "code",
   "execution_count": 95,
   "id": "84f1a4fa",
   "metadata": {},
   "outputs": [
    {
     "data": {
      "text/plain": [
       "array([], shape=(0, 2), dtype=int64)"
      ]
     },
     "execution_count": 95,
     "metadata": {},
     "output_type": "execute_result"
    }
   ],
   "source": [
    "np.argwhere(np.isnan(X_demographics))"
   ]
  },
  {
   "cell_type": "code",
   "execution_count": 96,
   "id": "a40f0561",
   "metadata": {},
   "outputs": [],
   "source": [
    "# Fit label encoders\n",
    "labelEncoders = []\n",
    "for q in question_cols:\n",
    "    y_vals = survey_df[q].to_numpy()\n",
    "    le = preprocessing.LabelEncoder()\n",
    "    le.fit(y_vals)\n",
    "    labelEncoders.append(le)\n",
    "    "
   ]
  },
  {
   "cell_type": "code",
   "execution_count": 97,
   "id": "1085bbf7",
   "metadata": {},
   "outputs": [
    {
     "name": "stderr",
     "output_type": "stream",
     "text": [
      "/Users/evabatelaan/opt/anaconda3/lib/python3.9/site-packages/sklearn/linear_model/_logistic.py:763: ConvergenceWarning: lbfgs failed to converge (status=1):\n",
      "STOP: TOTAL NO. of ITERATIONS REACHED LIMIT.\n",
      "\n",
      "Increase the number of iterations (max_iter) or scale the data as shown in:\n",
      "    https://scikit-learn.org/stable/modules/preprocessing.html\n",
      "Please also refer to the documentation for alternative solver options:\n",
      "    https://scikit-learn.org/stable/modules/linear_model.html#logistic-regression\n",
      "  n_iter_i = _check_optimize_result(\n"
     ]
    }
   ],
   "source": [
    "# Fit models\n",
    "lr = LogisticRegression(multi_class='multinomial')\n",
    "models = []\n",
    "for idx, q in enumerate(question_cols):\n",
    "    y_vals = survey_df[q].to_numpy()\n",
    "    Y_vals = labelEncoders[idx].transform(y_vals)\n",
    "    model = lr.fit(X_demographics, Y_vals)\n",
    "    models.append(model)"
   ]
  },
  {
   "cell_type": "code",
   "execution_count": 98,
   "id": "bb2353d1",
   "metadata": {},
   "outputs": [
    {
     "data": {
      "text/plain": [
       "[LogisticRegression(multi_class='multinomial'),\n",
       " LogisticRegression(multi_class='multinomial'),\n",
       " LogisticRegression(multi_class='multinomial'),\n",
       " LogisticRegression(multi_class='multinomial'),\n",
       " LogisticRegression(multi_class='multinomial'),\n",
       " LogisticRegression(multi_class='multinomial'),\n",
       " LogisticRegression(multi_class='multinomial')]"
      ]
     },
     "execution_count": 98,
     "metadata": {},
     "output_type": "execute_result"
    }
   ],
   "source": [
    "models"
   ]
  },
  {
   "cell_type": "code",
   "execution_count": 99,
   "id": "f08fdee7",
   "metadata": {},
   "outputs": [
    {
     "ename": "ValueError",
     "evalue": "could not convert string to float: 'Male'",
     "output_type": "error",
     "traceback": [
      "\u001b[0;31m---------------------------------------------------------------------------\u001b[0m",
      "\u001b[0;31mValueError\u001b[0m                                Traceback (most recent call last)",
      "\u001b[0;32m/var/folders/rr/6sz6ndb90wn78rfnd4trx8x00000gn/T/ipykernel_99413/591962052.py\u001b[0m in \u001b[0;36m<module>\u001b[0;34m\u001b[0m\n\u001b[0;32m----> 1\u001b[0;31m \u001b[0mrev_X\u001b[0m \u001b[0;34m=\u001b[0m \u001b[0menc\u001b[0m\u001b[0;34m.\u001b[0m\u001b[0minverse_transform\u001b[0m\u001b[0;34m(\u001b[0m\u001b[0mX_demographics\u001b[0m\u001b[0;34m)\u001b[0m\u001b[0;34m\u001b[0m\u001b[0;34m\u001b[0m\u001b[0m\n\u001b[0m",
      "\u001b[0;32m~/opt/anaconda3/lib/python3.9/site-packages/sklearn/pipeline.py\u001b[0m in \u001b[0;36m_inverse_transform\u001b[0;34m(self, X)\u001b[0m\n\u001b[1;32m    589\u001b[0m         \u001b[0mreverse_iter\u001b[0m \u001b[0;34m=\u001b[0m \u001b[0mreversed\u001b[0m\u001b[0;34m(\u001b[0m\u001b[0mlist\u001b[0m\u001b[0;34m(\u001b[0m\u001b[0mself\u001b[0m\u001b[0;34m.\u001b[0m\u001b[0m_iter\u001b[0m\u001b[0;34m(\u001b[0m\u001b[0;34m)\u001b[0m\u001b[0;34m)\u001b[0m\u001b[0;34m)\u001b[0m\u001b[0;34m\u001b[0m\u001b[0;34m\u001b[0m\u001b[0m\n\u001b[1;32m    590\u001b[0m         \u001b[0;32mfor\u001b[0m \u001b[0m_\u001b[0m\u001b[0;34m,\u001b[0m \u001b[0m_\u001b[0m\u001b[0;34m,\u001b[0m \u001b[0mtransform\u001b[0m \u001b[0;32min\u001b[0m \u001b[0mreverse_iter\u001b[0m\u001b[0;34m:\u001b[0m\u001b[0;34m\u001b[0m\u001b[0;34m\u001b[0m\u001b[0m\n\u001b[0;32m--> 591\u001b[0;31m             \u001b[0mXt\u001b[0m \u001b[0;34m=\u001b[0m \u001b[0mtransform\u001b[0m\u001b[0;34m.\u001b[0m\u001b[0minverse_transform\u001b[0m\u001b[0;34m(\u001b[0m\u001b[0mXt\u001b[0m\u001b[0;34m)\u001b[0m\u001b[0;34m\u001b[0m\u001b[0;34m\u001b[0m\u001b[0m\n\u001b[0m\u001b[1;32m    592\u001b[0m         \u001b[0;32mreturn\u001b[0m \u001b[0mXt\u001b[0m\u001b[0;34m\u001b[0m\u001b[0;34m\u001b[0m\u001b[0m\n\u001b[1;32m    593\u001b[0m \u001b[0;34m\u001b[0m\u001b[0m\n",
      "\u001b[0;32m~/opt/anaconda3/lib/python3.9/site-packages/sklearn/impute/_base.py\u001b[0m in \u001b[0;36minverse_transform\u001b[0;34m(self, X)\u001b[0m\n\u001b[1;32m    544\u001b[0m         \u001b[0;32mwhile\u001b[0m \u001b[0mimputed_idx\u001b[0m \u001b[0;34m<\u001b[0m \u001b[0mlen\u001b[0m\u001b[0;34m(\u001b[0m\u001b[0marray_imputed\u001b[0m\u001b[0;34m.\u001b[0m\u001b[0mT\u001b[0m\u001b[0;34m)\u001b[0m\u001b[0;34m:\u001b[0m\u001b[0;34m\u001b[0m\u001b[0;34m\u001b[0m\u001b[0m\n\u001b[1;32m    545\u001b[0m             \u001b[0;32mif\u001b[0m \u001b[0;32mnot\u001b[0m \u001b[0mnp\u001b[0m\u001b[0;34m.\u001b[0m\u001b[0mall\u001b[0m\u001b[0;34m(\u001b[0m\u001b[0mX_original\u001b[0m\u001b[0;34m[\u001b[0m\u001b[0;34m:\u001b[0m\u001b[0;34m,\u001b[0m \u001b[0moriginal_idx\u001b[0m\u001b[0;34m]\u001b[0m\u001b[0;34m)\u001b[0m\u001b[0;34m:\u001b[0m\u001b[0;34m\u001b[0m\u001b[0;34m\u001b[0m\u001b[0m\n\u001b[0;32m--> 546\u001b[0;31m                 \u001b[0mX_original\u001b[0m\u001b[0;34m[\u001b[0m\u001b[0;34m:\u001b[0m\u001b[0;34m,\u001b[0m \u001b[0moriginal_idx\u001b[0m\u001b[0;34m]\u001b[0m \u001b[0;34m=\u001b[0m \u001b[0marray_imputed\u001b[0m\u001b[0;34m.\u001b[0m\u001b[0mT\u001b[0m\u001b[0;34m[\u001b[0m\u001b[0mimputed_idx\u001b[0m\u001b[0;34m]\u001b[0m\u001b[0;34m\u001b[0m\u001b[0;34m\u001b[0m\u001b[0m\n\u001b[0m\u001b[1;32m    547\u001b[0m                 \u001b[0mimputed_idx\u001b[0m \u001b[0;34m+=\u001b[0m \u001b[0;36m1\u001b[0m\u001b[0;34m\u001b[0m\u001b[0;34m\u001b[0m\u001b[0m\n\u001b[1;32m    548\u001b[0m                 \u001b[0moriginal_idx\u001b[0m \u001b[0;34m+=\u001b[0m \u001b[0;36m1\u001b[0m\u001b[0;34m\u001b[0m\u001b[0;34m\u001b[0m\u001b[0m\n",
      "\u001b[0;31mValueError\u001b[0m: could not convert string to float: 'Male'"
     ]
    }
   ],
   "source": [
    "rev_X = enc.inverse_transform(X_demographics)"
   ]
  },
  {
   "cell_type": "code",
   "execution_count": 100,
   "id": "f0f6e4e3",
   "metadata": {},
   "outputs": [
    {
     "ename": "AttributeError",
     "evalue": "'Pipeline' object has no attribute 'categories_'",
     "output_type": "error",
     "traceback": [
      "\u001b[0;31m---------------------------------------------------------------------------\u001b[0m",
      "\u001b[0;31mAttributeError\u001b[0m                            Traceback (most recent call last)",
      "\u001b[0;32m/var/folders/rr/6sz6ndb90wn78rfnd4trx8x00000gn/T/ipykernel_99413/2227077488.py\u001b[0m in \u001b[0;36m<module>\u001b[0;34m\u001b[0m\n\u001b[0;32m----> 1\u001b[0;31m \u001b[0menc\u001b[0m\u001b[0;34m.\u001b[0m\u001b[0mcategories_\u001b[0m\u001b[0;34m\u001b[0m\u001b[0;34m\u001b[0m\u001b[0m\n\u001b[0m",
      "\u001b[0;31mAttributeError\u001b[0m: 'Pipeline' object has no attribute 'categories_'"
     ]
    }
   ],
   "source": []
  },
  {
   "cell_type": "code",
   "execution_count": null,
   "id": "5807dba9",
   "metadata": {},
   "outputs": [],
   "source": []
  }
 ],
 "metadata": {
  "kernelspec": {
   "display_name": "Python 3 (ipykernel)",
   "language": "python",
   "name": "python3"
  },
  "language_info": {
   "codemirror_mode": {
    "name": "ipython",
    "version": 3
   },
   "file_extension": ".py",
   "mimetype": "text/x-python",
   "name": "python",
   "nbconvert_exporter": "python",
   "pygments_lexer": "ipython3",
   "version": "3.9.7"
  }
 },
 "nbformat": 4,
 "nbformat_minor": 5
}
