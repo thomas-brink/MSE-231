{
 "cells": [
  {
   "cell_type": "markdown",
   "id": "047efec1",
   "metadata": {},
   "source": [
    "# Survey Analysis"
   ]
  },
  {
   "cell_type": "markdown",
   "id": "95f15aad",
   "metadata": {},
   "source": [
    "## Import Packages"
   ]
  },
  {
   "cell_type": "code",
   "execution_count": 2,
   "id": "385388e3",
   "metadata": {},
   "outputs": [],
   "source": [
    "import pandas as pd\n",
    "import numpy as np"
   ]
  },
  {
   "cell_type": "markdown",
   "id": "f76ef6b9",
   "metadata": {},
   "source": [
    "## Load in Data"
   ]
  },
  {
   "cell_type": "code",
   "execution_count": 3,
   "id": "8f71672f",
   "metadata": {},
   "outputs": [],
   "source": [
    "survey_df = pd.read_csv('comma-survey.csv', index_col='RespondentID')"
   ]
  },
  {
   "cell_type": "code",
   "execution_count": 8,
   "id": "b6edb2f7",
   "metadata": {},
   "outputs": [
    {
     "data": {
      "text/html": [
       "<div>\n",
       "<style scoped>\n",
       "    .dataframe tbody tr th:only-of-type {\n",
       "        vertical-align: middle;\n",
       "    }\n",
       "\n",
       "    .dataframe tbody tr th {\n",
       "        vertical-align: top;\n",
       "    }\n",
       "\n",
       "    .dataframe thead th {\n",
       "        text-align: right;\n",
       "    }\n",
       "</style>\n",
       "<table border=\"1\" class=\"dataframe\">\n",
       "  <thead>\n",
       "    <tr style=\"text-align: right;\">\n",
       "      <th></th>\n",
       "      <th>In your opinion, which sentence is more gramatically correct?</th>\n",
       "      <th>Prior to reading about it above, had you heard of the serial (or Oxford) comma?</th>\n",
       "      <th>How much, if at all, do you care about the use (or lack thereof) of the serial (or Oxford) comma in grammar?</th>\n",
       "      <th>How would you write the following sentence?</th>\n",
       "      <th>When faced with using the word \"data\", have you ever spent time considering if the word was a singular or plural noun?</th>\n",
       "      <th>How much, if at all, do you care about the debate over the use of the word \"data\" as a singluar or plural noun?</th>\n",
       "      <th>In your opinion, how important or unimportant is proper use of grammar?</th>\n",
       "      <th>Gender</th>\n",
       "      <th>Age</th>\n",
       "      <th>Household Income</th>\n",
       "      <th>Education</th>\n",
       "      <th>Location (Census Region)</th>\n",
       "    </tr>\n",
       "    <tr>\n",
       "      <th>RespondentID</th>\n",
       "      <th></th>\n",
       "      <th></th>\n",
       "      <th></th>\n",
       "      <th></th>\n",
       "      <th></th>\n",
       "      <th></th>\n",
       "      <th></th>\n",
       "      <th></th>\n",
       "      <th></th>\n",
       "      <th></th>\n",
       "      <th></th>\n",
       "      <th></th>\n",
       "    </tr>\n",
       "  </thead>\n",
       "  <tbody>\n",
       "    <tr>\n",
       "      <th>3292953864</th>\n",
       "      <td>It's important for a person to be honest, kind...</td>\n",
       "      <td>Yes</td>\n",
       "      <td>Some</td>\n",
       "      <td>Some experts say it's important to drink milk,...</td>\n",
       "      <td>No</td>\n",
       "      <td>Not much</td>\n",
       "      <td>Somewhat important</td>\n",
       "      <td>Male</td>\n",
       "      <td>30-44</td>\n",
       "      <td>$50,000 - $99,999</td>\n",
       "      <td>Bachelor degree</td>\n",
       "      <td>South Atlantic</td>\n",
       "    </tr>\n",
       "    <tr>\n",
       "      <th>3292950324</th>\n",
       "      <td>It's important for a person to be honest, kind...</td>\n",
       "      <td>No</td>\n",
       "      <td>Not much</td>\n",
       "      <td>Some experts say it's important to drink milk,...</td>\n",
       "      <td>No</td>\n",
       "      <td>Not much</td>\n",
       "      <td>Somewhat unimportant</td>\n",
       "      <td>Male</td>\n",
       "      <td>30-44</td>\n",
       "      <td>$50,000 - $99,999</td>\n",
       "      <td>Graduate degree</td>\n",
       "      <td>Mountain</td>\n",
       "    </tr>\n",
       "    <tr>\n",
       "      <th>3292942669</th>\n",
       "      <td>It's important for a person to be honest, kind...</td>\n",
       "      <td>Yes</td>\n",
       "      <td>Some</td>\n",
       "      <td>Some experts say it's important to drink milk,...</td>\n",
       "      <td>Yes</td>\n",
       "      <td>Not at all</td>\n",
       "      <td>Very important</td>\n",
       "      <td>Male</td>\n",
       "      <td>30-44</td>\n",
       "      <td>NaN</td>\n",
       "      <td>NaN</td>\n",
       "      <td>East North Central</td>\n",
       "    </tr>\n",
       "    <tr>\n",
       "      <th>3292932796</th>\n",
       "      <td>It's important for a person to be honest, kind...</td>\n",
       "      <td>Yes</td>\n",
       "      <td>Some</td>\n",
       "      <td>Some experts say it's important to drink milk,...</td>\n",
       "      <td>No</td>\n",
       "      <td>Some</td>\n",
       "      <td>Somewhat important</td>\n",
       "      <td>Male</td>\n",
       "      <td>18-29</td>\n",
       "      <td>NaN</td>\n",
       "      <td>Less than high school degree</td>\n",
       "      <td>Middle Atlantic</td>\n",
       "    </tr>\n",
       "    <tr>\n",
       "      <th>3292932522</th>\n",
       "      <td>It's important for a person to be honest, kind...</td>\n",
       "      <td>No</td>\n",
       "      <td>Not much</td>\n",
       "      <td>Some experts say it's important to drink milk,...</td>\n",
       "      <td>No</td>\n",
       "      <td>Not much</td>\n",
       "      <td>NaN</td>\n",
       "      <td>NaN</td>\n",
       "      <td>NaN</td>\n",
       "      <td>NaN</td>\n",
       "      <td>NaN</td>\n",
       "      <td>NaN</td>\n",
       "    </tr>\n",
       "  </tbody>\n",
       "</table>\n",
       "</div>"
      ],
      "text/plain": [
       "             In your opinion, which sentence is more gramatically correct?  \\\n",
       "RespondentID                                                                 \n",
       "3292953864    It's important for a person to be honest, kind...              \n",
       "3292950324    It's important for a person to be honest, kind...              \n",
       "3292942669    It's important for a person to be honest, kind...              \n",
       "3292932796    It's important for a person to be honest, kind...              \n",
       "3292932522    It's important for a person to be honest, kind...              \n",
       "\n",
       "             Prior to reading about it above, had you heard of the serial (or Oxford) comma?  \\\n",
       "RespondentID                                                                                   \n",
       "3292953864                                                  Yes                                \n",
       "3292950324                                                   No                                \n",
       "3292942669                                                  Yes                                \n",
       "3292932796                                                  Yes                                \n",
       "3292932522                                                   No                                \n",
       "\n",
       "             How much, if at all, do you care about the use (or lack thereof) of the serial (or Oxford) comma in grammar?  \\\n",
       "RespondentID                                                                                                                \n",
       "3292953864                                                 Some                                                             \n",
       "3292950324                                             Not much                                                             \n",
       "3292942669                                                 Some                                                             \n",
       "3292932796                                                 Some                                                             \n",
       "3292932522                                             Not much                                                             \n",
       "\n",
       "                    How would you write the following sentence?  \\\n",
       "RespondentID                                                      \n",
       "3292953864    Some experts say it's important to drink milk,...   \n",
       "3292950324    Some experts say it's important to drink milk,...   \n",
       "3292942669    Some experts say it's important to drink milk,...   \n",
       "3292932796    Some experts say it's important to drink milk,...   \n",
       "3292932522    Some experts say it's important to drink milk,...   \n",
       "\n",
       "             When faced with using the word \"data\", have you ever spent time considering if the word was a singular or plural noun?  \\\n",
       "RespondentID                                                                                                                          \n",
       "3292953864                                                   No                                                                       \n",
       "3292950324                                                   No                                                                       \n",
       "3292942669                                                  Yes                                                                       \n",
       "3292932796                                                   No                                                                       \n",
       "3292932522                                                   No                                                                       \n",
       "\n",
       "             How much, if at all, do you care about the debate over the use of the word \"data\" as a singluar or plural noun?  \\\n",
       "RespondentID                                                                                                                   \n",
       "3292953864                                             Not much                                                                \n",
       "3292950324                                             Not much                                                                \n",
       "3292942669                                           Not at all                                                                \n",
       "3292932796                                                 Some                                                                \n",
       "3292932522                                             Not much                                                                \n",
       "\n",
       "             In your opinion, how important or unimportant is proper use of grammar?  \\\n",
       "RespondentID                                                                           \n",
       "3292953864                                   Somewhat important                        \n",
       "3292950324                                 Somewhat unimportant                        \n",
       "3292942669                                       Very important                        \n",
       "3292932796                                   Somewhat important                        \n",
       "3292932522                                                  NaN                        \n",
       "\n",
       "             Gender    Age   Household Income                     Education  \\\n",
       "RespondentID                                                                  \n",
       "3292953864     Male  30-44  $50,000 - $99,999               Bachelor degree   \n",
       "3292950324     Male  30-44  $50,000 - $99,999               Graduate degree   \n",
       "3292942669     Male  30-44                NaN                           NaN   \n",
       "3292932796     Male  18-29                NaN  Less than high school degree   \n",
       "3292932522      NaN    NaN                NaN                           NaN   \n",
       "\n",
       "             Location (Census Region)  \n",
       "RespondentID                           \n",
       "3292953864             South Atlantic  \n",
       "3292950324                   Mountain  \n",
       "3292942669         East North Central  \n",
       "3292932796            Middle Atlantic  \n",
       "3292932522                        NaN  "
      ]
     },
     "execution_count": 8,
     "metadata": {},
     "output_type": "execute_result"
    }
   ],
   "source": [
    "survey_df.head()"
   ]
  },
  {
   "cell_type": "markdown",
   "id": "d32b9c00",
   "metadata": {},
   "source": [
    "## Compute Descriptive Statistics"
   ]
  },
  {
   "cell_type": "code",
   "execution_count": 12,
   "id": "a0d577cd",
   "metadata": {},
   "outputs": [
    {
     "name": "stdout",
     "output_type": "stream",
     "text": [
      "The data set has 1129 observations and 12 features\n"
     ]
    }
   ],
   "source": [
    "n_obs = len(survey_df)\n",
    "n_features = len(survey_df.columns)\n",
    "print('The data set has {} observations and {} features'.format(n_obs, n_features))"
   ]
  },
  {
   "cell_type": "markdown",
   "id": "c9e2c57c",
   "metadata": {},
   "source": [
    "### Column 1 (grammatically correct sentence)"
   ]
  },
  {
   "cell_type": "code",
   "execution_count": 15,
   "id": "9554a4e8",
   "metadata": {},
   "outputs": [
    {
     "data": {
      "text/plain": [
       "It's important for a person to be honest, kind, and loyal.    641\n",
       "It's important for a person to be honest, kind and loyal.     488\n",
       "Name: In your opinion, which sentence is more gramatically correct?, dtype: int64"
      ]
     },
     "execution_count": 15,
     "metadata": {},
     "output_type": "execute_result"
    }
   ],
   "source": [
    "survey_df.iloc[:,0].value_counts()"
   ]
  },
  {
   "cell_type": "code",
   "execution_count": 19,
   "id": "632bfe03",
   "metadata": {},
   "outputs": [
    {
     "name": "stdout",
     "output_type": "stream",
     "text": [
      "The first column has 0 missing values\n"
     ]
    }
   ],
   "source": [
    "print('The first column has {} missing values'.format(survey_df.iloc[:,0].isna().sum()))"
   ]
  },
  {
   "cell_type": "markdown",
   "id": "9eb578fb",
   "metadata": {},
   "source": [
    "### Column 2 (Oxford comma)"
   ]
  },
  {
   "cell_type": "code",
   "execution_count": 16,
   "id": "19d713c1",
   "metadata": {},
   "outputs": [
    {
     "data": {
      "text/plain": [
       "Yes    655\n",
       "No     444\n",
       "Name: Prior to reading about it above, had you heard of the serial (or Oxford) comma?, dtype: int64"
      ]
     },
     "execution_count": 16,
     "metadata": {},
     "output_type": "execute_result"
    }
   ],
   "source": [
    "survey_df.iloc[:,1].value_counts()"
   ]
  },
  {
   "cell_type": "code",
   "execution_count": 22,
   "id": "9939f676",
   "metadata": {},
   "outputs": [
    {
     "name": "stdout",
     "output_type": "stream",
     "text": [
      "The second column has 30 missing values\n"
     ]
    }
   ],
   "source": [
    "print('The second column has {} missing values'.format(survey_df.iloc[:,1].isna().sum()))"
   ]
  },
  {
   "cell_type": "markdown",
   "id": "c23c8e0a",
   "metadata": {},
   "source": [
    "### Combined Columns 1 and 2"
   ]
  },
  {
   "cell_type": "code",
   "execution_count": 23,
   "id": "496dce2e",
   "metadata": {},
   "outputs": [
    {
     "data": {
      "text/plain": [
       "It's important for a person to be honest, kind, and loyal.    423\n",
       "It's important for a person to be honest, kind and loyal.     232\n",
       "Name: In your opinion, which sentence is more gramatically correct?, dtype: int64"
      ]
     },
     "execution_count": 23,
     "metadata": {},
     "output_type": "execute_result"
    }
   ],
   "source": [
    "survey_df[survey_df.iloc[:,1]=='Yes'].iloc[:,0].value_counts()"
   ]
  },
  {
   "cell_type": "code",
   "execution_count": 24,
   "id": "d18dfbfb",
   "metadata": {},
   "outputs": [
    {
     "data": {
      "text/plain": [
       "It's important for a person to be honest, kind and loyal.     244\n",
       "It's important for a person to be honest, kind, and loyal.    200\n",
       "Name: In your opinion, which sentence is more gramatically correct?, dtype: int64"
      ]
     },
     "execution_count": 24,
     "metadata": {},
     "output_type": "execute_result"
    }
   ],
   "source": [
    "survey_df[survey_df.iloc[:,1]=='No'].iloc[:,0].value_counts()"
   ]
  },
  {
   "cell_type": "code",
   "execution_count": 27,
   "id": "cbf9910a",
   "metadata": {},
   "outputs": [
    {
     "data": {
      "text/plain": [
       "It's important for a person to be honest, kind, and loyal.    18\n",
       "It's important for a person to be honest, kind and loyal.     12\n",
       "Name: In your opinion, which sentence is more gramatically correct?, dtype: int64"
      ]
     },
     "execution_count": 27,
     "metadata": {},
     "output_type": "execute_result"
    }
   ],
   "source": [
    "survey_df[survey_df.iloc[:,1].isna()].iloc[:,0].value_counts()"
   ]
  },
  {
   "cell_type": "markdown",
   "id": "72b4a259",
   "metadata": {},
   "source": [
    "Takeaway; among people who know about the Oxford comma, more people choose the correct sentence in the first column (the one that has the serial comma inside). Furthermore, every respondent has entered the first column in the survey, whereas 30 people have not entered a response for column 2. "
   ]
  },
  {
   "cell_type": "markdown",
   "id": "1afffa23",
   "metadata": {},
   "source": [
    "### Column 3"
   ]
  },
  {
   "cell_type": "code",
   "execution_count": 29,
   "id": "d267e4d7",
   "metadata": {},
   "outputs": [
    {
     "data": {
      "text/plain": [
       "Some          414\n",
       "A lot         291\n",
       "Not much      268\n",
       "Not at all    126\n",
       "Name: How much, if at all, do you care about the use (or lack thereof) of the serial (or Oxford) comma in grammar?, dtype: int64"
      ]
     },
     "execution_count": 29,
     "metadata": {},
     "output_type": "execute_result"
    }
   ],
   "source": [
    "survey_df.iloc[:,2].value_counts()"
   ]
  },
  {
   "cell_type": "code",
   "execution_count": 36,
   "id": "cb87f7f1",
   "metadata": {},
   "outputs": [
    {
     "name": "stdout",
     "output_type": "stream",
     "text": [
      "The third column has 30 missing values\n",
      "Series([], Name: Prior to reading about it above, had you heard of the serial (or Oxford) comma?, dtype: int64)\n"
     ]
    }
   ],
   "source": [
    "print('The third column has {} missing values'.format(survey_df.iloc[:,2].isna().sum()))\n",
    "print(survey_df[survey_df.iloc[:,2].isna()].iloc[:,1].value_counts())"
   ]
  },
  {
   "cell_type": "markdown",
   "id": "eb090536",
   "metadata": {},
   "source": [
    "Takeaway; the third column has as many missing values as the second column. As indicated in the second above print statement, these 30 respondents are the same across these two columns, implying that no-one who did not answer the second survey question did answer the third question. "
   ]
  },
  {
   "cell_type": "markdown",
   "id": "779ad60a",
   "metadata": {},
   "source": [
    "### Combined Columns 2 and 3"
   ]
  },
  {
   "cell_type": "code",
   "execution_count": 33,
   "id": "8b1d792c",
   "metadata": {},
   "outputs": [
    {
     "data": {
      "text/plain": [
       "Some          243\n",
       "A lot         229\n",
       "Not much      141\n",
       "Not at all     42\n",
       "Name: How much, if at all, do you care about the use (or lack thereof) of the serial (or Oxford) comma in grammar?, dtype: int64"
      ]
     },
     "execution_count": 33,
     "metadata": {},
     "output_type": "execute_result"
    }
   ],
   "source": [
    "survey_df[survey_df.iloc[:,1]=='Yes'].iloc[:,2].value_counts()"
   ]
  },
  {
   "cell_type": "code",
   "execution_count": 34,
   "id": "7d6f61ec",
   "metadata": {},
   "outputs": [
    {
     "data": {
      "text/plain": [
       "Some          171\n",
       "Not much      127\n",
       "Not at all     84\n",
       "A lot          62\n",
       "Name: How much, if at all, do you care about the use (or lack thereof) of the serial (or Oxford) comma in grammar?, dtype: int64"
      ]
     },
     "execution_count": 34,
     "metadata": {},
     "output_type": "execute_result"
    }
   ],
   "source": [
    "survey_df[survey_df.iloc[:,1]=='No'].iloc[:,2].value_counts()"
   ]
  },
  {
   "cell_type": "markdown",
   "id": "e1249be0",
   "metadata": {},
   "source": [
    "Among people who do not know about the Oxford people, a larger fraction does not care about the use of this concept in grammar than the same fraction among people who do about this concept."
   ]
  },
  {
   "cell_type": "markdown",
   "id": "4a3fa5c0",
   "metadata": {},
   "source": [
    "### Combined Columns 1 and 3"
   ]
  },
  {
   "cell_type": "markdown",
   "id": "c5823b83",
   "metadata": {},
   "source": [
    "To be continued..."
   ]
  },
  {
   "cell_type": "markdown",
   "id": "a99e8d13",
   "metadata": {},
   "source": [
    "### Column 4"
   ]
  },
  {
   "cell_type": "code",
   "execution_count": 35,
   "id": "56a6d256",
   "metadata": {},
   "outputs": [
    {
     "data": {
      "text/plain": [
       "Some experts say it's important to drink milk, but the data is inconclusive.     865\n",
       "Some experts say it's important to drink milk, but the data are inconclusive.    228\n",
       "Name: How would you write the following sentence?, dtype: int64"
      ]
     },
     "execution_count": 35,
     "metadata": {},
     "output_type": "execute_result"
    }
   ],
   "source": [
    "survey_df.iloc[:,3].value_counts()"
   ]
  },
  {
   "cell_type": "code",
   "execution_count": 40,
   "id": "ed2229b5",
   "metadata": {},
   "outputs": [
    {
     "name": "stdout",
     "output_type": "stream",
     "text": [
      "The fourth column has 36 missing values\n"
     ]
    }
   ],
   "source": [
    "print('The fourth column has {} missing values'.format(survey_df.iloc[:,3].isna().sum()))"
   ]
  },
  {
   "cell_type": "markdown",
   "id": "6a3f9824",
   "metadata": {},
   "source": [
    "Most people use singular when writing about data, and we have 6 extra missing responses compared to the previous two columns."
   ]
  },
  {
   "cell_type": "markdown",
   "id": "ac6e65cc",
   "metadata": {},
   "source": [
    "### Column 5"
   ]
  },
  {
   "cell_type": "code",
   "execution_count": 38,
   "id": "c1b6a27d",
   "metadata": {},
   "outputs": [
    {
     "data": {
      "text/plain": [
       "No     547\n",
       "Yes    544\n",
       "Name: When faced with using the word \"data\", have you ever spent time considering if the word was a singular or plural noun?, dtype: int64"
      ]
     },
     "execution_count": 38,
     "metadata": {},
     "output_type": "execute_result"
    }
   ],
   "source": [
    "survey_df.iloc[:,4].value_counts()"
   ]
  },
  {
   "cell_type": "code",
   "execution_count": 39,
   "id": "49e0e308",
   "metadata": {},
   "outputs": [
    {
     "name": "stdout",
     "output_type": "stream",
     "text": [
      "The fifth column has 38 missing values\n"
     ]
    }
   ],
   "source": [
    "print('The fifth column has {} missing values'.format(survey_df.iloc[:,4].isna().sum()))"
   ]
  },
  {
   "cell_type": "markdown",
   "id": "685cbf39",
   "metadata": {},
   "source": [
    "About half of the respondents has ever spent time considering whether data is singular or plural. Also, we have two more missing values compared to the previous column."
   ]
  },
  {
   "cell_type": "markdown",
   "id": "1840f820",
   "metadata": {},
   "source": [
    "### Column 6"
   ]
  },
  {
   "cell_type": "code",
   "execution_count": 41,
   "id": "811cb1ea",
   "metadata": {},
   "outputs": [
    {
     "data": {
      "text/plain": [
       "Not much      403\n",
       "Some          352\n",
       "Not at all    203\n",
       "A lot         133\n",
       "Name: How much, if at all, do you care about the debate over the use of the word \"data\" as a singluar or plural noun?, dtype: int64"
      ]
     },
     "execution_count": 41,
     "metadata": {},
     "output_type": "execute_result"
    }
   ],
   "source": [
    "survey_df.iloc[:,5].value_counts()"
   ]
  },
  {
   "cell_type": "code",
   "execution_count": 42,
   "id": "2481791e",
   "metadata": {},
   "outputs": [
    {
     "name": "stdout",
     "output_type": "stream",
     "text": [
      "The sixth column has 38 missing values\n"
     ]
    }
   ],
   "source": [
    "print('The sixth column has {} missing values'.format(survey_df.iloc[:,5].isna().sum()))"
   ]
  },
  {
   "cell_type": "markdown",
   "id": "61b8c7e3",
   "metadata": {},
   "source": [
    "The majority of people do not care all too much about the use of the word data. We have as many missing values as for the previous column."
   ]
  },
  {
   "cell_type": "markdown",
   "id": "d16385b2",
   "metadata": {},
   "source": [
    "### Columns 4-5-6 compared"
   ]
  },
  {
   "cell_type": "markdown",
   "id": "40c6d0a1",
   "metadata": {},
   "source": [
    "To be continued"
   ]
  },
  {
   "cell_type": "markdown",
   "id": "782c602a",
   "metadata": {},
   "source": [
    "### Column 7"
   ]
  },
  {
   "cell_type": "code",
   "execution_count": 43,
   "id": "39987ac2",
   "metadata": {},
   "outputs": [
    {
     "data": {
      "text/plain": [
       "Very important                                 688\n",
       "Somewhat important                             333\n",
       "Neither important nor unimportant (neutral)     26\n",
       "Somewhat unimportant                             7\n",
       "Very unimportant                                 5\n",
       "Name: In your opinion, how important or unimportant is proper use of grammar?, dtype: int64"
      ]
     },
     "execution_count": 43,
     "metadata": {},
     "output_type": "execute_result"
    }
   ],
   "source": [
    "survey_df.iloc[:,6].value_counts()"
   ]
  },
  {
   "cell_type": "code",
   "execution_count": 44,
   "id": "22229e41",
   "metadata": {},
   "outputs": [
    {
     "name": "stdout",
     "output_type": "stream",
     "text": [
      "The seventh column has 70 missing values\n"
     ]
    }
   ],
   "source": [
    "print('The seventh column has {} missing values'.format(survey_df.iloc[:,6].isna().sum()))"
   ]
  },
  {
   "cell_type": "markdown",
   "id": "eab1ac56",
   "metadata": {},
   "source": [
    "Most people state they find proper use of grammar to be important. Also, we have almost double as many missing values for this question compared to the previous question."
   ]
  },
  {
   "cell_type": "markdown",
   "id": "e1da558b",
   "metadata": {},
   "source": [
    "### Column 8"
   ]
  },
  {
   "cell_type": "code",
   "execution_count": 45,
   "id": "5eb8b4e7",
   "metadata": {},
   "outputs": [
    {
     "data": {
      "text/plain": [
       "Female    548\n",
       "Male      489\n",
       "Name: Gender, dtype: int64"
      ]
     },
     "execution_count": 45,
     "metadata": {},
     "output_type": "execute_result"
    }
   ],
   "source": [
    "survey_df.iloc[:,7].value_counts()"
   ]
  },
  {
   "cell_type": "code",
   "execution_count": 46,
   "id": "2bde6344",
   "metadata": {},
   "outputs": [
    {
     "name": "stdout",
     "output_type": "stream",
     "text": [
      "The eigth column has 92 missing values\n"
     ]
    }
   ],
   "source": [
    "print('The eigth column has {} missing values'.format(survey_df.iloc[:,7].isna().sum()))"
   ]
  },
  {
   "cell_type": "markdown",
   "id": "8c4dd824",
   "metadata": {},
   "source": [
    "We have slightly more females than males in the survey. Also, the number of missing values for this question has increased to 92."
   ]
  },
  {
   "cell_type": "markdown",
   "id": "b7370160",
   "metadata": {},
   "source": [
    "### Column 9"
   ]
  },
  {
   "cell_type": "code",
   "execution_count": 47,
   "id": "cbe423b8",
   "metadata": {},
   "outputs": [
    {
     "data": {
      "text/plain": [
       "45-60    290\n",
       "> 60     272\n",
       "30-44    254\n",
       "18-29    221\n",
       "Name: Age, dtype: int64"
      ]
     },
     "execution_count": 47,
     "metadata": {},
     "output_type": "execute_result"
    }
   ],
   "source": [
    "survey_df.iloc[:,8].value_counts()"
   ]
  },
  {
   "cell_type": "code",
   "execution_count": 48,
   "id": "1f340af0",
   "metadata": {},
   "outputs": [
    {
     "name": "stdout",
     "output_type": "stream",
     "text": [
      "The ninth column has 92 missing values\n"
     ]
    }
   ],
   "source": [
    "print('The ninth column has {} missing values'.format(survey_df.iloc[:,8].isna().sum()))"
   ]
  },
  {
   "cell_type": "code",
   "execution_count": 49,
   "id": "68562619",
   "metadata": {},
   "outputs": [
    {
     "data": {
      "text/plain": [
       "Series([], Name: Age, dtype: int64)"
      ]
     },
     "execution_count": 49,
     "metadata": {},
     "output_type": "execute_result"
    }
   ],
   "source": [
    "survey_df[survey_df.iloc[:,7].isna()].iloc[:,8].value_counts()"
   ]
  },
  {
   "cell_type": "markdown",
   "id": "6116de11",
   "metadata": {},
   "source": [
    "Everyone who stated their gender also stated their age group. The number of respondents increases slightly with age group. "
   ]
  },
  {
   "cell_type": "markdown",
   "id": "3b1d383d",
   "metadata": {},
   "source": [
    "### Column 10"
   ]
  },
  {
   "cell_type": "code",
   "execution_count": 50,
   "id": "31afc2f2",
   "metadata": {},
   "outputs": [
    {
     "data": {
      "text/plain": [
       "$50,000 - $99,999      290\n",
       "$100,000 - $149,999    164\n",
       "$25,000 - $49,999      158\n",
       "$0 - $24,999           121\n",
       "$150,000+              103\n",
       "Name: Household Income, dtype: int64"
      ]
     },
     "execution_count": 50,
     "metadata": {},
     "output_type": "execute_result"
    }
   ],
   "source": [
    "survey_df.iloc[:,9].value_counts()"
   ]
  },
  {
   "cell_type": "code",
   "execution_count": 51,
   "id": "143ba735",
   "metadata": {},
   "outputs": [
    {
     "name": "stdout",
     "output_type": "stream",
     "text": [
      "The tenth column has 293 missing values\n"
     ]
    }
   ],
   "source": [
    "print('The tenth column has {} missing values'.format(survey_df.iloc[:,9].isna().sum()))"
   ]
  },
  {
   "cell_type": "markdown",
   "id": "23e117f4",
   "metadata": {},
   "source": [
    "The biggest income group is \\$50,000 to \\$99,999, and the smallest two groups are given by the two most extreme groups (\\$0-\\$24,999 and \\$150,000+). What's notable is that the number of missing values has more than tripled compared to previous question, indicating that a substantial portion of respondents did not (want to) answer a question about their household income."
   ]
  },
  {
   "cell_type": "markdown",
   "id": "4ef7bb4c",
   "metadata": {},
   "source": [
    "### Column 11"
   ]
  },
  {
   "cell_type": "code",
   "execution_count": 52,
   "id": "b4edad86",
   "metadata": {},
   "outputs": [
    {
     "data": {
      "text/plain": [
       "Bachelor degree                     344\n",
       "Some college or Associate degree    295\n",
       "Graduate degree                     276\n",
       "High school degree                  100\n",
       "Less than high school degree         11\n",
       "Name: Education, dtype: int64"
      ]
     },
     "execution_count": 52,
     "metadata": {},
     "output_type": "execute_result"
    }
   ],
   "source": [
    "survey_df.iloc[:,10].value_counts()"
   ]
  },
  {
   "cell_type": "code",
   "execution_count": 53,
   "id": "5279816f",
   "metadata": {},
   "outputs": [
    {
     "name": "stdout",
     "output_type": "stream",
     "text": [
      "The eleventh column has 103 missing values\n"
     ]
    }
   ],
   "source": [
    "print('The eleventh column has {} missing values'.format(survey_df.iloc[:,10].isna().sum()))"
   ]
  },
  {
   "cell_type": "markdown",
   "id": "52b57d71",
   "metadata": {},
   "source": [
    "The biggest education group is those having a Bachelor degree, whereas only a small portion of respondents has just a high school degree or less. It is interesting to see that although the previous (income) question had 293 missing values, this question has only 103 missing values."
   ]
  },
  {
   "cell_type": "markdown",
   "id": "5b3fa2f8",
   "metadata": {},
   "source": [
    "### Column 12"
   ]
  },
  {
   "cell_type": "code",
   "execution_count": 54,
   "id": "c4841b98",
   "metadata": {},
   "outputs": [
    {
     "data": {
      "text/plain": [
       "Pacific               180\n",
       "East North Central    170\n",
       "South Atlantic        164\n",
       "Middle Atlantic       140\n",
       "West South Central     88\n",
       "Mountain               87\n",
       "West North Central     82\n",
       "New England            73\n",
       "East South Central     43\n",
       "Name: Location (Census Region), dtype: int64"
      ]
     },
     "execution_count": 54,
     "metadata": {},
     "output_type": "execute_result"
    }
   ],
   "source": [
    "survey_df.iloc[:,11].value_counts()"
   ]
  },
  {
   "cell_type": "code",
   "execution_count": 55,
   "id": "8223fc6f",
   "metadata": {},
   "outputs": [
    {
     "name": "stdout",
     "output_type": "stream",
     "text": [
      "The twelfth column has 102 missing values\n"
     ]
    }
   ],
   "source": [
    "print('The twelfth column has {} missing values'.format(survey_df.iloc[:,11].isna().sum()))"
   ]
  },
  {
   "cell_type": "markdown",
   "id": "4b433e01",
   "metadata": {},
   "source": [
    "We have the same number of missing values as last column. The largest location groups are 'Pacific', 'East North Central', 'South Atlantic', and 'Middle Atlantic'. "
   ]
  },
  {
   "cell_type": "markdown",
   "id": "19d2d9aa",
   "metadata": {},
   "source": [
    "### Missing Data Overall"
   ]
  },
  {
   "cell_type": "code",
   "execution_count": 56,
   "id": "442d9b21",
   "metadata": {},
   "outputs": [
    {
     "data": {
      "text/plain": [
       "In your opinion, which sentence is more gramatically correct?                                                               0\n",
       "Prior to reading about it above, had you heard of the serial (or Oxford) comma?                                            30\n",
       "How much, if at all, do you care about the use (or lack thereof) of the serial (or Oxford) comma in grammar?               30\n",
       "How would you write the following sentence?                                                                                36\n",
       "When faced with using the word \"data\", have you ever spent time considering if the word was a singular or plural noun?     38\n",
       "How much, if at all, do you care about the debate over the use of the word \"data\" as a singluar or plural noun?            38\n",
       "In your opinion, how important or unimportant is proper use of grammar?                                                    70\n",
       "Gender                                                                                                                     92\n",
       "Age                                                                                                                        92\n",
       "Household Income                                                                                                          293\n",
       "Education                                                                                                                 103\n",
       "Location (Census Region)                                                                                                  102\n",
       "dtype: int64"
      ]
     },
     "execution_count": 56,
     "metadata": {},
     "output_type": "execute_result"
    }
   ],
   "source": [
    "survey_df.isna().sum()"
   ]
  },
  {
   "cell_type": "code",
   "execution_count": 66,
   "id": "22d92d10",
   "metadata": {},
   "outputs": [
    {
     "name": "stdout",
     "output_type": "stream",
     "text": [
      "The total number of rows with missing data is 304\n",
      "This constitutes 27.0% of observations\n"
     ]
    }
   ],
   "source": [
    "print('The total number of rows with missing data is {}'.format(survey_df.isna().any(axis=1).sum()))\n",
    "print('This constitutes {}% of observations'.format(np.round(100*survey_df.isna().any(axis=1).sum()/n_obs), 2))"
   ]
  },
  {
   "cell_type": "markdown",
   "id": "6912c0ec",
   "metadata": {},
   "source": [
    "There is some mixing in which respondents have missing data in columns, i.e., the question with the maximum missingness does not give the total of rows in our data with missing data. The total number of rows with some degree of missingness constitutes around 27\\% of our observations."
   ]
  },
  {
   "cell_type": "code",
   "execution_count": null,
   "id": "66d79c77",
   "metadata": {},
   "outputs": [],
   "source": []
  }
 ],
 "metadata": {
  "kernelspec": {
   "display_name": "Python 3 (ipykernel)",
   "language": "python",
   "name": "python3"
  },
  "language_info": {
   "codemirror_mode": {
    "name": "ipython",
    "version": 3
   },
   "file_extension": ".py",
   "mimetype": "text/x-python",
   "name": "python",
   "nbconvert_exporter": "python",
   "pygments_lexer": "ipython3",
   "version": "3.9.7"
  }
 },
 "nbformat": 4,
 "nbformat_minor": 5
}
